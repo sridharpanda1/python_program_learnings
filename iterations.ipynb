{
 "cells": [
  {
   "cell_type": "markdown",
   "id": "683ded59-8cb3-46c9-bf4f-30847df2f712",
   "metadata": {},
   "source": [
    "#### for every elemment if it is having a given sequence, we have go for 'for loop'"
   ]
  },
  {
   "cell_type": "code",
   "execution_count": 7,
   "id": "9ef82882-00b2-4508-8db6-510c8b76159f",
   "metadata": {},
   "outputs": [
    {
     "name": "stdin",
     "output_type": "stream",
     "text": [
      "ENter a list of numbers:  [1,2,4]\n"
     ]
    },
    {
     "name": "stdout",
     "output_type": "stream",
     "text": [
      "Sum is 7\n"
     ]
    }
   ],
   "source": [
    "l = eval(input('ENter a list of numbers: '))\n",
    "sum = 0\n",
    "for i in l:\n",
    "    sum = sum+i\n",
    "print('Sum is {}'.format(sum))"
   ]
  },
  {
   "cell_type": "code",
   "execution_count": 8,
   "id": "6bce7836-f783-4611-b59f-7581c3c5c52c",
   "metadata": {},
   "outputs": [
    {
     "name": "stdin",
     "output_type": "stream",
     "text": [
      "ENter a list of numbers:  ['a','b','c']\n"
     ]
    },
    {
     "name": "stdout",
     "output_type": "stream",
     "text": [
      "Sum is abc\n"
     ]
    }
   ],
   "source": [
    "l = eval(input('ENter a list of numbers: '))\n",
    "sum = ''\n",
    "for i in l:\n",
    "    sum = sum+i\n",
    "print('Sum is {}'.format(sum))"
   ]
  },
  {
   "cell_type": "code",
   "execution_count": 9,
   "id": "4dbf7d80-b931-4da4-9b0c-f88082ad10d4",
   "metadata": {},
   "outputs": [
    {
     "name": "stdin",
     "output_type": "stream",
     "text": [
      "ENter a list of numbers:  ['a','b','c']\n"
     ]
    },
    {
     "name": "stdout",
     "output_type": "stream",
     "text": [
      "Sum is ['a','b','c']\n"
     ]
    }
   ],
   "source": [
    "l = input('ENter a list of numbers: ')\n",
    "sum = ''\n",
    "for i in l:\n",
    "    sum = sum+i\n",
    "print('Sum is {}'.format(sum))"
   ]
  },
  {
   "cell_type": "code",
   "execution_count": 16,
   "id": "579c547c-5478-4bb8-bcd0-bd132fc42751",
   "metadata": {},
   "outputs": [
    {
     "name": "stdout",
     "output_type": "stream",
     "text": [
      "1\n",
      "2\n",
      "3\n",
      "4\n",
      "5\n",
      "6\n",
      "7\n",
      "8\n",
      "9\n",
      "10\n"
     ]
    }
   ],
   "source": [
    "for i in range(1, 11):\n",
    "    print (i)\n",
    "    "
   ]
  },
  {
   "cell_type": "markdown",
   "id": "ad7749ac-27f1-4415-98ef-78694bcb4916",
   "metadata": {},
   "source": [
    "#### if we dont have the number of iterations in adv, as long as some condition is True, execute body and once the condtion is false than stop executuion for While loop"
   ]
  },
  {
   "cell_type": "code",
   "execution_count": 15,
   "id": "944bbd1c-d187-459c-b0f6-fa1866d4f8cf",
   "metadata": {},
   "outputs": [
    {
     "name": "stdout",
     "output_type": "stream",
     "text": [
      "1\n",
      "2\n",
      "3\n",
      "4\n",
      "5\n",
      "6\n",
      "7\n",
      "8\n",
      "9\n",
      "10\n"
     ]
    }
   ],
   "source": [
    "x=1\n",
    "while x<= 10:\n",
    "    print(x)\n",
    "    x=x+1\n",
    "    "
   ]
  },
  {
   "cell_type": "code",
   "execution_count": 20,
   "id": "dcff5b4f-90c8-4b55-bf01-06bb7fad2ec9",
   "metadata": {},
   "outputs": [
    {
     "name": "stdin",
     "output_type": "stream",
     "text": [
      " 2\n"
     ]
    },
    {
     "name": "stdout",
     "output_type": "stream",
     "text": [
      "sum of first2 numbers 3\n"
     ]
    }
   ],
   "source": [
    "n = int(input())\n",
    "sum = 0\n",
    "i = 1\n",
    "while i <= n:\n",
    "    sum = sum+i\n",
    "    i=i+1\n",
    "\n",
    "print('sum of first{} numbers {}'.format(n, sum))"
   ]
  },
  {
   "cell_type": "code",
   "execution_count": 22,
   "id": "faea826a-1a25-4bc2-8c3c-084376ba5e1a",
   "metadata": {},
   "outputs": [
    {
     "name": "stdin",
     "output_type": "stream",
     "text": [
      "Enter ur favroite heroine. Sunny\n"
     ]
    },
    {
     "name": "stdout",
     "output_type": "stream",
     "text": [
      "Thank for confirmations\n"
     ]
    }
   ],
   "source": [
    "name = ''\n",
    "\n",
    "while name != 'sunny' and name != 'Sunny':\n",
    "    name = input('Enter ur favroite heroine.')\n",
    "print('Thank for confirmations')\n"
   ]
  },
  {
   "cell_type": "code",
   "execution_count": 25,
   "id": "7a51ccc6-622c-479c-9777-1f52c20e443d",
   "metadata": {},
   "outputs": [
    {
     "name": "stdin",
     "output_type": "stream",
     "text": [
      "Enter ur favroite heroine. sunny\n"
     ]
    },
    {
     "name": "stdout",
     "output_type": "stream",
     "text": [
      "Thank for confirmations\n"
     ]
    }
   ],
   "source": [
    "name = ''\n",
    "i = 1\n",
    "while name != 'Sunny' and name != 'sunny' and i<=10:\n",
    "    name = input('Enter ur favroite heroine.')\n",
    "    i=i+1\n",
    "\n",
    "print('Thank for confirmations')"
   ]
  },
  {
   "cell_type": "code",
   "execution_count": null,
   "id": "26d452ce-9dcd-49b4-b38d-efb2ea7dc291",
   "metadata": {},
   "outputs": [],
   "source": []
  },
  {
   "cell_type": "code",
   "execution_count": null,
   "id": "93c54356-e6dc-4175-b79e-9a9dc3210905",
   "metadata": {},
   "outputs": [],
   "source": []
  },
  {
   "cell_type": "code",
   "execution_count": null,
   "id": "ff154cfc-b361-4189-97d3-804a044a5fdc",
   "metadata": {},
   "outputs": [],
   "source": []
  },
  {
   "cell_type": "code",
   "execution_count": null,
   "id": "0467dbbd-3fef-4606-9fae-4c4a1cee3c56",
   "metadata": {},
   "outputs": [],
   "source": []
  },
  {
   "cell_type": "code",
   "execution_count": null,
   "id": "88c3fc02-59f8-4d55-9c9b-9e9ee60d8e75",
   "metadata": {},
   "outputs": [],
   "source": []
  }
 ],
 "metadata": {
  "kernelspec": {
   "display_name": "Python 3 (ipykernel)",
   "language": "python",
   "name": "python3"
  },
  "language_info": {
   "codemirror_mode": {
    "name": "ipython",
    "version": 3
   },
   "file_extension": ".py",
   "mimetype": "text/x-python",
   "name": "python",
   "nbconvert_exporter": "python",
   "pygments_lexer": "ipython3",
   "version": "3.11.5"
  }
 },
 "nbformat": 4,
 "nbformat_minor": 5
}
