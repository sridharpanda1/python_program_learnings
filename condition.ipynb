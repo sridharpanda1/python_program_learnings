{
 "cells": [
  {
   "cell_type": "code",
   "execution_count": 1,
   "id": "6cbfb8be-89b4-4f93-98df-29b89ac22ac7",
   "metadata": {},
   "outputs": [
    {
     "name": "stdin",
     "output_type": "stream",
     "text": [
      "Enter your name:  Sridhar\n"
     ]
    },
    {
     "name": "stdout",
     "output_type": "stream",
     "text": [
      "Hello SP, Good Morning!!!\n",
      "How are you?\n"
     ]
    }
   ],
   "source": [
    "name = input('Enter your name: ')\n",
    "if name=='Sridhar':\n",
    "    print('Hello SP, Good Morning!!!')\n",
    "\n",
    "print('How are you?')"
   ]
  },
  {
   "cell_type": "code",
   "execution_count": 2,
   "id": "917c58e6-7f33-4b97-b8e6-5b6b63d256bb",
   "metadata": {},
   "outputs": [
    {
     "name": "stdin",
     "output_type": "stream",
     "text": [
      "Enter your name:  Sridhar\n"
     ]
    },
    {
     "name": "stdout",
     "output_type": "stream",
     "text": [
      "Hello SP, Good Morning!!!\n",
      "How are you?\n"
     ]
    }
   ],
   "source": [
    "name = input('Enter your name: ')\n",
    "if name=='Sridhar':\n",
    "    print('Hello SP, Good Morning!!!')\n",
    "else:\n",
    "    print('Hello Guest, Good Morning!!!')\n",
    "print('How are you?')"
   ]
  },
  {
   "cell_type": "code",
   "execution_count": 3,
   "id": "f23a5237-d868-4395-a398-2a367088a641",
   "metadata": {},
   "outputs": [
    {
     "name": "stdin",
     "output_type": "stream",
     "text": [
      "Enter your name:  Sridhar\n"
     ]
    },
    {
     "name": "stdout",
     "output_type": "stream",
     "text": [
      "Hello SP, Good Morning!!!\n",
      "How are you?\n"
     ]
    }
   ],
   "source": [
    "name = input('Enter your name: ')\n",
    "if name=='Sridhar':\n",
    "    print('Hello SP, Good Morning!!!')\n",
    "elif name == 'Guest':\n",
    "    print('Hello Guest, Good Morning!!!')\n",
    "else:\n",
    "    print('who hell you are, I dont know You!!!')\n",
    "print('How are you?')"
   ]
  },
  {
   "cell_type": "code",
   "execution_count": 4,
   "id": "4aabcde4-b868-4490-815c-78cbcced35c8",
   "metadata": {},
   "outputs": [
    {
     "name": "stdin",
     "output_type": "stream",
     "text": [
      "Enter your favorite brand:  Sridhar\n"
     ]
    },
    {
     "name": "stdout",
     "output_type": "stream",
     "text": [
      "Other brands are not recommended\n"
     ]
    }
   ],
   "source": [
    "brand = input('Enter your favorite brand: ')\n",
    "if brand == 'RC':\n",
    "    print(\"It's a Children's brand\")\n",
    "elif brand == 'KF':\n",
    "    print('Not that much kick')\n",
    "elif brand == 'KO':\n",
    "    print('Too light')\n",
    "elif brand == 'FP':\n",
    "    print('Buy one get one free')\n",
    "else:\n",
    "    print('Other brands are not recommended')\n"
   ]
  },
  {
   "cell_type": "code",
   "execution_count": 5,
   "id": "74a2a377-124c-4341-a3bf-97c0e1ff4b32",
   "metadata": {},
   "outputs": [
    {
     "name": "stdin",
     "output_type": "stream",
     "text": [
      "Enter 1st no:  2\n",
      "Enter 2nd no:  3\n"
     ]
    },
    {
     "name": "stdout",
     "output_type": "stream",
     "text": [
      "2 is smaller than 3\n"
     ]
    }
   ],
   "source": [
    "n1 = int(input('Enter 1st no: '))\n",
    "n2 = int(input('Enter 2nd no: '))\n",
    "\n",
    "if n1>n2:\n",
    "    print('{} is greater than {}'.format(n1, n2))\n",
    "else:\n",
    "    print('{} is smaller than {}'.format(n1,n2))"
   ]
  },
  {
   "cell_type": "code",
   "execution_count": 7,
   "id": "53bcd71f-7fd1-468a-b754-e416cc8dd415",
   "metadata": {},
   "outputs": [
    {
     "name": "stdin",
     "output_type": "stream",
     "text": [
      "Enter 1st no:  3\n",
      "Enter 2nd no:  2\n",
      "Enter 3rd no:  1\n"
     ]
    },
    {
     "name": "stdout",
     "output_type": "stream",
     "text": [
      "3 is greater than 2 and 1\n"
     ]
    }
   ],
   "source": [
    "n1 = int(input('Enter 1st no: '))\n",
    "n2 = int(input('Enter 2nd no: '))\n",
    "n3 = int(input('Enter 3rd no: '))\n",
    "\n",
    "if n1>n2 and n1>n3:\n",
    "    print('{} is greater than {} and {}'.format(n1, n2, n3))\n",
    "elif n2>n1 and n2>n3:\n",
    "    print('{} is greater than {} and {}'.format(n2, n1, n3))\n",
    "else:\n",
    "    print('{} is greater than {} and {}'.format(n3, n1, n2))"
   ]
  },
  {
   "cell_type": "code",
   "execution_count": 9,
   "id": "2ba82d55-a00f-433b-a7c0-33cef8e2a967",
   "metadata": {},
   "outputs": [
    {
     "name": "stdin",
     "output_type": "stream",
     "text": [
      "Enter 1st no:  1\n",
      "Enter 2nd no:  2\n",
      "Enter 3rd no:  3\n"
     ]
    },
    {
     "name": "stdout",
     "output_type": "stream",
     "text": [
      "1 is smaller than 2 and 3\n"
     ]
    }
   ],
   "source": [
    "n1 = int(input('Enter 1st no: '))\n",
    "n2 = int(input('Enter 2nd no: '))\n",
    "n3 = int(input('Enter 3rd no: '))\n",
    "\n",
    "if n1<n2 and n1<n3:\n",
    "    print('{} is smaller than {} and {}'.format(n1, n2, n3))\n",
    "elif n2<n1 and n2<n3:\n",
    "    print('{} is smaller than {} and {}'.format(n2, n1, n3))\n",
    "else:\n",
    "    print('{} is smaller than {} and {}'.format(n3, n1, n2))"
   ]
  },
  {
   "cell_type": "code",
   "execution_count": 10,
   "id": "404dc48a-31ff-4079-8147-2e25da1e3c63",
   "metadata": {},
   "outputs": [
    {
     "name": "stdin",
     "output_type": "stream",
     "text": [
      "Enter 1st no:  1\n",
      "Enter 2nd no:  2\n"
     ]
    },
    {
     "name": "stdout",
     "output_type": "stream",
     "text": [
      "1 is smaller than 2\n"
     ]
    }
   ],
   "source": [
    "n1 = int(input('Enter 1st no: '))\n",
    "n2 = int(input('Enter 2nd no: '))\n",
    "\n",
    "if n1<n2:\n",
    "    print('{} is smaller than {}'.format(n1, n2))\n",
    "else:\n",
    "    print('{} is smaller than {}'.format(n2,n1))"
   ]
  },
  {
   "cell_type": "code",
   "execution_count": 12,
   "id": "49666b42-990c-4ff6-9367-d4ce68e8f737",
   "metadata": {},
   "outputs": [
    {
     "name": "stdin",
     "output_type": "stream",
     "text": [
      "Enter 1st no:  1\n"
     ]
    },
    {
     "name": "stdout",
     "output_type": "stream",
     "text": [
      "1 is odd\n"
     ]
    }
   ],
   "source": [
    "n1 = int(input('Enter 1st no: '))\n",
    "# n2 = int(input('Enter 2nd no: '))\n",
    "\n",
    "if n1%2 == 0:\n",
    "    print('{} is even'.format(n1))\n",
    "else:\n",
    "    print('{} is odd'.format(n1))"
   ]
  },
  {
   "cell_type": "code",
   "execution_count": 15,
   "id": "38a1cc02-cddf-41e9-b64b-a994f77f6aca",
   "metadata": {},
   "outputs": [
    {
     "name": "stdin",
     "output_type": "stream",
     "text": [
      "Enter a no:  0\n"
     ]
    },
    {
     "name": "stdout",
     "output_type": "stream",
     "text": [
      "0 is beyond the limit\n"
     ]
    }
   ],
   "source": [
    "n1 = int(input('Enter a no: '))\n",
    "\n",
    "if n1>=1 and n1<100:\n",
    "    print('{} is between 1 to 100'.format(n1))\n",
    "else:\n",
    "    print('{} is beyond the limit'.format(n1))"
   ]
  },
  {
   "cell_type": "code",
   "execution_count": 19,
   "id": "559f4d81-1d28-44aa-a766-c7dc8898f62f",
   "metadata": {},
   "outputs": [
    {
     "name": "stdin",
     "output_type": "stream",
     "text": [
      "ENter a digit from keybord:  0\n"
     ]
    },
    {
     "name": "stdout",
     "output_type": "stream",
     "text": [
      "Zero\n"
     ]
    }
   ],
   "source": [
    "n = int(input('ENter a digit from keybord: '))\n",
    "if n == 1:\n",
    "    print('One')\n",
    "elif n == 2:\n",
    "    print('Two')\n",
    "elif n == 3:\n",
    "    print('Three')\n",
    "elif n == 4:\n",
    "    print('Four')\n",
    "elif n == 5:\n",
    "    print('Five')\n",
    "elif n == 6:\n",
    "    print('Six')\n",
    "elif n == 7:\n",
    "    print('Seven')\n",
    "elif n == 8:\n",
    "    print('Eight')\n",
    "elif n == 9:\n",
    "    print('Nine')\n",
    "elif n == 0:\n",
    "    print('Zero')\n",
    "else:\n",
    "    print('Not a Number')\n",
    "\n"
   ]
  },
  {
   "cell_type": "code",
   "execution_count": null,
   "id": "2b1ba9eb-0717-47ef-962e-c8b4f90b3f5a",
   "metadata": {},
   "outputs": [],
   "source": []
  }
 ],
 "metadata": {
  "kernelspec": {
   "display_name": "Python 3 (ipykernel)",
   "language": "python",
   "name": "python3"
  },
  "language_info": {
   "codemirror_mode": {
    "name": "ipython",
    "version": 3
   },
   "file_extension": ".py",
   "mimetype": "text/x-python",
   "name": "python",
   "nbconvert_exporter": "python",
   "pygments_lexer": "ipython3",
   "version": "3.11.5"
  }
 },
 "nbformat": 4,
 "nbformat_minor": 5
}
